{
 "cells": [
  {
   "cell_type": "code",
   "execution_count": 1,
   "metadata": {},
   "outputs": [],
   "source": [
    "import numpy as np\n",
    "from numpy.core.defchararray import replace\n",
    "\n",
    "from keras.models import Sequential, load_model\n",
    "from keras.layers import Dense, GlobalAveragePooling2D, Dropout, Conv2D, Flatten, BatchNormalization, Conv2DTranspose\n",
    "\n",
    "MINE = -1\n",
    "COVERED = -2\n",
    "\n",
    "SIZE_X = 16\n",
    "SIZE_Y = 30\n",
    "N_MINES = 99\n",
    "\n",
    "class Board:\n",
    "    def __init__(self, height, width, mines):\n",
    "        self.visual_board = np.full((height, width), COVERED)\n",
    "        self.height = height\n",
    "        self.width = width\n",
    "        self.mines_left = mines\n",
    "        \n",
    "        self.initialize_board()\n",
    "        \n",
    "    def initialize_board(self):\n",
    "        self.board = np.zeros((self.height, self.width), dtype=np.int16)\n",
    "\n",
    "        coords = np.array([[(i, j) for j in range(self.width)] for i in range(self.height)])\n",
    "        coords = coords.reshape(coords.shape[0]*coords.shape[1], coords.shape[2])\n",
    "                \n",
    "        self.mines_location = coords[np.random.choice(len(coords), self.mines_left, replace=False)]\n",
    "        set_mines = set(map(tuple, self.mines_location))\n",
    "        self.non_mines_location = np.array(list(filter(lambda x : tuple(x) not in set_mines, coords)))\n",
    "        \n",
    "        for mine_coord in self.mines_location:\n",
    "            self.board[mine_coord[0]][mine_coord[1]] = MINE\n",
    "        \n",
    "        for mine_coord in self.mines_location:            \n",
    "            if mine_coord[0] > 0:\n",
    "                if self.board[mine_coord[0]-1][mine_coord[1]] != MINE:\n",
    "                    self.board[mine_coord[0]-1][mine_coord[1]] += 1\n",
    "                \n",
    "                if mine_coord[1] < self.width -1:\n",
    "                    if self.board[mine_coord[0]-1][mine_coord[1]+1] != MINE:\n",
    "                        self.board[mine_coord[0]-1][mine_coord[1]+1] += 1\n",
    "\n",
    "                if mine_coord[1] > 0:\n",
    "                    if self.board[mine_coord[0]-1][mine_coord[1]-1] != MINE:\n",
    "                        self.board[mine_coord[0]-1][mine_coord[1]-1] += 1\n",
    "            \n",
    "            if mine_coord[0] < self.height -1:\n",
    "                if self.board[mine_coord[0]+1][mine_coord[1]] != MINE:\n",
    "                    self.board[mine_coord[0]+1][mine_coord[1]] += 1\n",
    "                \n",
    "                if mine_coord[1] < self.width -1:\n",
    "                    if self.board[mine_coord[0]+1][mine_coord[1]+1] != MINE:\n",
    "                        self.board[mine_coord[0]+1][mine_coord[1]+1] += 1\n",
    "\n",
    "                if mine_coord[1] >= 0:\n",
    "                    if self.board[mine_coord[0]+1][mine_coord[1]-1] != MINE:\n",
    "                        self.board[mine_coord[0]+1][mine_coord[1]-1] += 1\n",
    "\n",
    "            if mine_coord[1] < self.width - 1:\n",
    "                if self.board[mine_coord[0]][mine_coord[1]+1] != MINE:\n",
    "                    self.board[mine_coord[0]][mine_coord[1]+1] += 1\n",
    "\n",
    "            if mine_coord[1] > 0:\n",
    "                if self.board[mine_coord[0]][mine_coord[1]-1] != MINE:\n",
    "                    self.board[mine_coord[0]][mine_coord[1]-1] += 1\n",
    "                                    \n",
    "    def print_board(self):\n",
    "        for line in self.visual_board:\n",
    "            for element in line:\n",
    "                if element == COVERED:\n",
    "                    print(\"| |\",end=\" \")\n",
    "                else:\n",
    "                    print(\"|\"+str(element)+\"|\", end=\" \")\n",
    "            print(\"\")\n",
    "    \n",
    "    def cover_board(self):\n",
    "        self.visual_board = np.full((self.height, self.width), COVERED)\n",
    "    \n",
    "    def get_mine_mask(self):\n",
    "        out_mtx = np.zeros((self.height, self.width))\n",
    "        \n",
    "        for mine in self.mines_location:\n",
    "            out_mtx[mine[0]][mine[1]] = 1\n",
    "        \n",
    "        return out_mtx\n",
    "\n",
    "    def generate_random_state(self, percentage_to_uncover):\n",
    "        self.initialize_board()\n",
    "        self.cover_board()\n",
    "        \n",
    "        mines_to_uncover = int((self.height * self.width - self.mines_left) * percentage_to_uncover)\n",
    "        \n",
    "        coords_uncovered = self.non_mines_location[np.random.choice(len(self.non_mines_location),\\\n",
    "                                                                    mines_to_uncover, replace=False)]\n",
    "        for coord in coords_uncovered:\n",
    "            self.visual_board[coord[0]][coord[1]] = self.board[coord[0]][coord[1]]\n",
    "        \n",
    "        return self.visual_board, self.get_mine_mask()\n",
    "\n",
    "    def __uncover_recursive(self, x, y):\n",
    "        if (self.height <= x) or (x < 0) or\\\n",
    "            (self.width <= y) or (y < 0) or\\\n",
    "            (self.board[x][y] == MINE or self.visual_board[x][y] != COVERED):\n",
    "            return\n",
    "        \n",
    "        self.visual_board[x][y] = self.board[x][y]\n",
    "        \n",
    "        if self.board[x][y] == 0:\n",
    "        \n",
    "            self.__uncover_recursive(x+1, y)\n",
    "            self.__uncover_recursive(x, y+1)\n",
    "            self.__uncover_recursive(x+1, y+1)\n",
    "\n",
    "            self.__uncover_recursive(x-1, y)\n",
    "            self.__uncover_recursive(x, y-1)\n",
    "            self.__uncover_recursive(x-1, y-1)\n",
    "\n",
    "            self.__uncover_recursive(x+1, y-1)\n",
    "            self.__uncover_recursive(x-1, y+1)\n",
    "        \n",
    "    \n",
    "    def click_at(self, x, y):\n",
    "        if self.board[x][y] == MINE:\n",
    "            return True\n",
    "        \n",
    "        self.__uncover_recursive(x, y)\n",
    "        \n",
    "        return False"
   ]
  },
  {
   "cell_type": "code",
   "execution_count": 6,
   "metadata": {},
   "outputs": [],
   "source": [
    "def generate_dataset(size, clicks_max = 14, rand_mines = (40, 120)):\n",
    "    X, Y = [], []\n",
    "    \n",
    "    for i in range(int(size/2)):\n",
    "        clicks = 0\n",
    "        clicks_limit = np.random.randint(1, clicks_max)\n",
    "        mines_n = np.random.randint(*rand_mines)\n",
    "        board = Board(SIZE_X, SIZE_Y, mines_n)\n",
    "        while clicks != clicks_limit:\n",
    "            x_rand = np.random.randint(0, board.height)\n",
    "            y_rand = np.random.randint(0, board.width)\n",
    "            \n",
    "            if not board.click_at(x_rand, y_rand):\n",
    "                clicks += 1\n",
    "            else:\n",
    "                board.cover_board()\n",
    "        \n",
    "        x, y = board.visual_board, board.get_mine_mask()\n",
    "        x_mines = np.ones((board.height, board.width))*board.mines_left / (board.height* board.width)\n",
    "        X.append(np.stack((x, x_mines), axis=2))\n",
    "        Y.append(y)\n",
    "        \n",
    "        prob = np.random.random()\n",
    "        \n",
    "        x, y = board.generate_random_state(prob)\n",
    "        \n",
    "        X.append(np.stack((x, x_mines), axis=2))\n",
    "        Y.append(y)\n",
    "        \n",
    "        print(\"{}/{}\\r\".format(i*2, size), end=\"\")\n",
    "            \n",
    "    return np.array(X).reshape(size, board.height, board.width, 2), np.array(Y)"
   ]
  },
  {
   "cell_type": "code",
   "execution_count": 3,
   "metadata": {},
   "outputs": [],
   "source": [
    "def instantiate_model(n, m):\n",
    "    model = Sequential()\n",
    "\n",
    "    model.add(Conv2D(32, kernel_size = 2 , activation='relu', input_shape=(n, m, 2), padding='same'))\n",
    "    model.add(Conv2D(32, kernel_size = 2, activation='relu', padding='same'))\n",
    "    model.add(Conv2D(64, kernel_size = 2, activation='relu', padding='same'))\n",
    "    model.add(BatchNormalization())\n",
    "\n",
    "    model.add(Conv2D(64, kernel_size = 3 , activation='relu', padding='same'))\n",
    "    model.add(Conv2D(64, kernel_size = 3, activation='relu', padding='same'))\n",
    "    model.add(Conv2D(64, kernel_size = 3, activation='relu', padding='same'))\n",
    "    model.add(BatchNormalization())\n",
    "\n",
    "    model.add(Conv2D(128, kernel_size = 5 , activation='relu', padding='same'))\n",
    "    model.add(Conv2D(128, kernel_size = 5, activation='relu', padding='same'))\n",
    "    model.add(Conv2D(128, kernel_size = 5, activation='relu', padding='same'))\n",
    "    model.add(BatchNormalization())\n",
    "    \n",
    "    model.add(Conv2D(256, kernel_size = 7 , activation='relu', padding='same'))\n",
    "    model.add(BatchNormalization())\n",
    "    \n",
    "    model.add(Conv2DTranspose(1, kernel_size = 1, activation='sigmoid', padding='same'))\n",
    "    \n",
    "    print(model.summary())\n",
    "\n",
    "    model.compile(optimizer='rmsprop', loss='mse', metrics=['mse', 'mae'])\n",
    "\n",
    "    return model"
   ]
  },
  {
   "cell_type": "code",
   "execution_count": 4,
   "metadata": {},
   "outputs": [],
   "source": [
    "b = Board(SIZE_X, SIZE_Y, N_MINES)"
   ]
  },
  {
   "cell_type": "code",
   "execution_count": 37,
   "metadata": {},
   "outputs": [
    {
     "data": {
      "text/plain": [
       "False"
      ]
     },
     "execution_count": 37,
     "metadata": {},
     "output_type": "execute_result"
    }
   ],
   "source": [
    "b.click_at(2, 0)"
   ]
  },
  {
   "cell_type": "code",
   "execution_count": 38,
   "metadata": {},
   "outputs": [
    {
     "name": "stdout",
     "output_type": "stream",
     "text": [
      "| | | | | | | | | | | | | | | | \n",
      "| | | | | | | | | | | | | | | | \n",
      "|2| | | | | | | | | | | | | | | \n",
      "| | | | | | | | | | | | | | | | \n",
      "| | | | | | | | | | | | | | | | \n",
      "| | | | | | | | | | | | | | | | \n",
      "| | | | | | | | | | | | | | | | \n",
      "| | | | | | | | | | | | | | | | \n"
     ]
    }
   ],
   "source": [
    "b.print_board()"
   ]
  },
  {
   "cell_type": "code",
   "execution_count": 39,
   "metadata": {},
   "outputs": [
    {
     "data": {
      "text/plain": [
       "array([[-1,  2,  1,  2, -1,  2,  0,  0],\n",
       "       [ 3, -1,  2,  2, -1,  3,  1,  1],\n",
       "       [ 2, -1,  3,  2,  3, -1,  1,  0],\n",
       "       [ 2,  2,  3, -1,  2,  1,  1,  0],\n",
       "       [ 1, -1,  2,  1,  1,  0,  0,  0],\n",
       "       [ 2,  2,  1,  0,  0,  0,  0,  0],\n",
       "       [-1,  2,  0,  0,  0,  0,  0,  0],\n",
       "       [-1,  2,  0,  0,  0,  0,  0,  1]], dtype=int16)"
      ]
     },
     "execution_count": 39,
     "metadata": {},
     "output_type": "execute_result"
    }
   ],
   "source": [
    "b.board"
   ]
  },
  {
   "cell_type": "code",
   "execution_count": 40,
   "metadata": {},
   "outputs": [
    {
     "data": {
      "text/plain": [
       "array([[-2, -2, -2, -2, -2, -2, -2, -2],\n",
       "       [-2, -2, -2, -2, -2, -2, -2, -2],\n",
       "       [ 2, -2, -2, -2, -2, -2, -2, -2],\n",
       "       [-2, -2, -2, -2, -2, -2, -2, -2],\n",
       "       [-2, -2, -2, -2, -2, -2, -2, -2],\n",
       "       [-2, -2, -2, -2, -2, -2, -2, -2],\n",
       "       [-2, -2, -2, -2, -2, -2, -2, -2],\n",
       "       [-2, -2, -2, -2, -2, -2, -2, -2]])"
      ]
     },
     "execution_count": 40,
     "metadata": {},
     "output_type": "execute_result"
    }
   ],
   "source": [
    "b.visual_board"
   ]
  },
  {
   "cell_type": "code",
   "execution_count": 7,
   "metadata": {
    "scrolled": true
   },
   "outputs": [
    {
     "name": "stdout",
     "output_type": "stream",
     "text": [
      "99998/100000\r"
     ]
    }
   ],
   "source": [
    "X, Y = generate_dataset(100000)"
   ]
  },
  {
   "cell_type": "code",
   "execution_count": 13,
   "metadata": {},
   "outputs": [],
   "source": [
    "(X_train, Y_train), (X_test, Y_test) = (X[0:90000], Y[0:90000]) , (X[90000:], Y[90000:])"
   ]
  },
  {
   "cell_type": "code",
   "execution_count": 8,
   "metadata": {},
   "outputs": [],
   "source": [
    "import pickle"
   ]
  },
  {
   "cell_type": "code",
   "execution_count": 9,
   "metadata": {},
   "outputs": [],
   "source": [
    "pickle.dump([X, Y] , open(\"16x30_40-120_100000\", 'wb'))"
   ]
  },
  {
   "cell_type": "code",
   "execution_count": 14,
   "metadata": {},
   "outputs": [
    {
     "name": "stdout",
     "output_type": "stream",
     "text": [
      "Model: \"sequential_1\"\n",
      "_________________________________________________________________\n",
      "Layer (type)                 Output Shape              Param #   \n",
      "=================================================================\n",
      "conv2d_10 (Conv2D)           (None, 16, 30, 32)        288       \n",
      "_________________________________________________________________\n",
      "conv2d_11 (Conv2D)           (None, 16, 30, 32)        4128      \n",
      "_________________________________________________________________\n",
      "conv2d_12 (Conv2D)           (None, 16, 30, 64)        8256      \n",
      "_________________________________________________________________\n",
      "batch_normalization_4 (Batch (None, 16, 30, 64)        256       \n",
      "_________________________________________________________________\n",
      "conv2d_13 (Conv2D)           (None, 16, 30, 64)        36928     \n",
      "_________________________________________________________________\n",
      "conv2d_14 (Conv2D)           (None, 16, 30, 64)        36928     \n",
      "_________________________________________________________________\n",
      "conv2d_15 (Conv2D)           (None, 16, 30, 64)        36928     \n",
      "_________________________________________________________________\n",
      "batch_normalization_5 (Batch (None, 16, 30, 64)        256       \n",
      "_________________________________________________________________\n",
      "conv2d_16 (Conv2D)           (None, 16, 30, 128)       204928    \n",
      "_________________________________________________________________\n",
      "conv2d_17 (Conv2D)           (None, 16, 30, 128)       409728    \n",
      "_________________________________________________________________\n",
      "conv2d_18 (Conv2D)           (None, 16, 30, 128)       409728    \n",
      "_________________________________________________________________\n",
      "batch_normalization_6 (Batch (None, 16, 30, 128)       512       \n",
      "_________________________________________________________________\n",
      "conv2d_19 (Conv2D)           (None, 16, 30, 256)       1605888   \n",
      "_________________________________________________________________\n",
      "batch_normalization_7 (Batch (None, 16, 30, 256)       1024      \n",
      "_________________________________________________________________\n",
      "conv2d_transpose_1 (Conv2DTr (None, 16, 30, 1)         257       \n",
      "=================================================================\n",
      "Total params: 2,756,033\n",
      "Trainable params: 2,755,009\n",
      "Non-trainable params: 1,024\n",
      "_________________________________________________________________\n",
      "None\n"
     ]
    }
   ],
   "source": [
    "model = instantiate_model(SIZE_X, SIZE_Y)"
   ]
  },
  {
   "cell_type": "code",
   "execution_count": 4,
   "metadata": {},
   "outputs": [],
   "source": [
    "model = load_model(\"mine_net_v2.h5\")"
   ]
  },
  {
   "cell_type": "code",
   "execution_count": null,
   "metadata": {
    "scrolled": true
   },
   "outputs": [
    {
     "name": "stdout",
     "output_type": "stream",
     "text": [
      "Epoch 1/50\n",
      "1407/1407 [==============================] - 97s 69ms/step - loss: 0.0965 - mse: 0.0965 - mae: 0.1921 - val_loss: 0.0830 - val_mse: 0.0830 - val_mae: 0.1753\n",
      "Epoch 2/50\n",
      "1407/1407 [==============================] - 94s 67ms/step - loss: 0.0811 - mse: 0.0811 - mae: 0.1643 - val_loss: 0.0887 - val_mse: 0.0887 - val_mae: 0.1726\n",
      "Epoch 3/50\n",
      "1407/1407 [==============================] - 92s 65ms/step - loss: 0.0803 - mse: 0.0803 - mae: 0.1624 - val_loss: 0.0817 - val_mse: 0.0817 - val_mae: 0.1641\n",
      "Epoch 4/50\n",
      "1407/1407 [==============================] - 93s 66ms/step - loss: 0.0800 - mse: 0.0800 - mae: 0.1614 - val_loss: 0.0810 - val_mse: 0.0810 - val_mae: 0.1698\n",
      "Epoch 5/50\n",
      "1407/1407 [==============================] - 93s 66ms/step - loss: 0.0797 - mse: 0.0797 - mae: 0.1608 - val_loss: 0.0805 - val_mse: 0.0805 - val_mae: 0.1650\n",
      "Epoch 6/50\n",
      "1407/1407 [==============================] - 92s 65ms/step - loss: 0.0795 - mse: 0.0795 - mae: 0.1603 - val_loss: 0.0806 - val_mse: 0.0806 - val_mae: 0.1603\n",
      "Epoch 7/50\n",
      "1407/1407 [==============================] - 93s 66ms/step - loss: 0.0793 - mse: 0.0793 - mae: 0.1598 - val_loss: 0.0806 - val_mse: 0.0806 - val_mae: 0.1672\n",
      "Epoch 8/50\n",
      "1407/1407 [==============================] - 93s 66ms/step - loss: 0.0791 - mse: 0.0791 - mae: 0.1593 - val_loss: 0.0809 - val_mse: 0.0809 - val_mae: 0.1630\n",
      "Epoch 9/50\n",
      "1407/1407 [==============================] - 92s 66ms/step - loss: 0.0789 - mse: 0.0789 - mae: 0.1588 - val_loss: 0.0806 - val_mse: 0.0806 - val_mae: 0.1660\n",
      "Epoch 10/50\n",
      " 937/1407 [==================>...........] - ETA: 29s - loss: 0.0786 - mse: 0.0786 - mae: 0.1581"
     ]
    }
   ],
   "source": [
    "model.fit(X_train, Y_train, validation_data=(X_test, Y_test), epochs=50, batch_size=64)"
   ]
  },
  {
   "cell_type": "code",
   "execution_count": 14,
   "metadata": {},
   "outputs": [],
   "source": [
    "model.save(\"mine_net_v2.h5\")"
   ]
  },
  {
   "cell_type": "code",
   "execution_count": 15,
   "metadata": {},
   "outputs": [],
   "source": [
    "x, y = b.generate_random_state(0.5)\n",
    "x_mines = np.ones((b.height, b.width))*b.mines_left / (b.height* b.width)\n",
    "x = np.stack((x, x_mines), axis=2)"
   ]
  },
  {
   "cell_type": "code",
   "execution_count": 16,
   "metadata": {},
   "outputs": [
    {
     "name": "stdout",
     "output_type": "stream",
     "text": [
      "|0| | | |0| | | |1| | | |1| | | | | | | |1| | | | | |0| | | |0| \n",
      "|0| |1| | | | | |1| | | |1| | | | | | | |1| |0| |0| | | | | |1| \n",
      "|0| | | | | |1| | | | | |1| |2| | | | | | | |0| | | |2| | | |1| \n",
      "| | | | | | | | |0| |1| | | | | | | |1| |1| |1| | | | | | | |1| \n",
      "| | | | |1| |0| |0| |1| | | |1| |0| |0| |1| | | | | |1| | | | | \n",
      "|2| | | |1| |0| | | |0| |0| | | | | |1| | | | | |1| | | | | | | \n",
      "|3| |3| |2| | | | | |2| | | | | | | |1| | | |1| |1| |1| |3| | | \n",
      "| | | | |3| |3| | | | | | | | | |1| |1| | | | | | | | | | | | | \n",
      "| | |3| | | | | | | |6| | | | | |1| | | |0| | | |2| |2| |3| |2| \n",
      "| | |2| | | |5| | | | | | | |2| |1| |1| |1| |0| |1| | | |2| |1| \n",
      "|1| |2| | | |2| |2| | | | | | | | | | | | | | | |2| | | | | | | \n",
      "| | | | | | |1| | | | | | | |1| | | |1| | | |1| | | | | | | | | \n",
      "|1| | | | | |0| | | |1| | | | | | | |1| | | | | | | |2| |3| | | \n",
      "| | |0| | | | | | | |1| |1| | | |1| | | |2| | | | | | | |2| | | \n",
      "| | |0| |0| | | |0| | | | | | | | | |2| | | | | | | |0| | | |1| \n",
      "|0| | | | | | | | | |0| | | | | |2| | | | | |0| |0| | | |0| | | \n"
     ]
    }
   ],
   "source": [
    "b.print_board()"
   ]
  },
  {
   "cell_type": "code",
   "execution_count": 17,
   "metadata": {},
   "outputs": [
    {
     "name": "stdout",
     "output_type": "stream",
     "text": [
      "(0, 0) => |0.00||0.00||0.00||0.00||0.00||1.00||0.00||0.00||0.17||1.00||0.00||0.00||0.00||0.00||0.00||0.00|\n",
      "(1, 0) => |0.00||0.00||0.00||0.00||0.00||0.00||0.00||0.00||0.00||0.22||0.00||0.00||0.00||0.00||0.00||0.00|\n",
      "(2, 0) => |0.00||0.00||1.00||0.00||0.00||0.00||0.00||0.00||1.00||0.00||0.00||0.00||0.00||0.00||1.00||0.00|\n",
      "(3, 0) => |0.00||0.00||0.00||0.00||0.00||0.00||1.00||0.00||0.00||0.00||0.00||0.00||0.00||1.00||0.00||0.00|\n",
      "(4, 0) => |1.00||0.00||0.00||0.00||0.00||0.00||0.00||0.00||0.00||0.00||0.00||1.00||0.00||0.00||0.00||0.00|\n",
      "(5, 0) => |0.00||1.00||0.00||0.00||0.00||0.00||0.00||0.00||0.00||0.00||0.00||0.00||0.00||0.00||0.00||1.00|\n",
      "(6, 0) => |0.00||0.00||0.00||0.00||0.00||0.00||0.00||0.00||0.00||0.00||1.00||0.00||0.00||0.00||0.00||0.83|\n",
      "(7, 0) => |1.00||1.00||0.00||0.00||1.00||0.00||0.97||1.00||0.00||0.00||0.00||0.00||0.00||1.00||0.00||1.00|\n",
      "(8, 0) => |0.00||0.00||0.93||1.00||1.00||0.00||1.00||0.00||0.00||0.00||0.00||0.00||0.00||0.00||0.00||0.00|\n",
      "(9, 0) => |0.00||0.00||0.00||0.00||1.00||0.00||1.00||0.00||0.00||0.00||0.00||0.00||0.00||1.00||0.00||0.00|\n",
      "(10, 0) => |0.00||0.00||1.00||0.00||0.00||0.00||0.00||0.00||0.00||1.00||0.00||0.00||0.00||0.00||0.00||1.00|\n",
      "(11, 0) => |0.45||0.01||0.00||0.00||0.00||0.00||0.00||0.00||0.00||0.00||0.00||0.00||0.99||0.60||0.54||0.00|\n",
      "(12, 0) => |0.00||0.00||0.00||0.00||0.00||0.00||1.00||0.00||0.00||0.00||0.96||0.00||0.00||0.00||0.00||1.00|\n",
      "(13, 0) => |0.00||0.00||0.00||0.00||0.00||0.00||0.00||0.00||0.00||0.98||0.00||1.00||0.00||0.00||0.00||1.00|\n",
      "(14, 0) => |0.00||0.00||0.00||0.00||0.00||0.00||0.00||0.00||0.22||0.00||0.00||0.00||0.00||0.00||0.00||0.00|\n",
      "(15, 0) => |0.00||0.00||0.00||0.00||0.00||0.00||0.00||1.00||0.00||0.85||0.00||0.00||0.00||0.00||0.00||0.00|\n"
     ]
    }
   ],
   "source": [
    "for i, line in enumerate(model.predict(x.reshape(1, 16, 16, 2))[0]):\n",
    "    print(\"({}, 0) => \".format(i), end='')\n",
    "    for j, ele in enumerate(line):\n",
    "        print(\"|{0:.2f}|\".format(ele[0]), end=\"\")\n",
    "    print(\"\")"
   ]
  },
  {
   "cell_type": "code",
   "execution_count": 18,
   "metadata": {},
   "outputs": [
    {
     "name": "stdout",
     "output_type": "stream",
     "text": [
      "|0.00| |0.00| |0.00| |0.00| |0.00| |1.00| |0.00| |0.00| |0.00| |0.00| |0.00| |0.00| |0.00| |0.00| |0.00| |0.00| \n",
      "|0.00| |0.00| |0.00| |0.00| |0.00| |0.00| |0.00| |0.00| |0.00| |1.00| |0.00| |0.00| |0.00| |0.00| |0.00| |0.00| \n",
      "|0.00| |0.00| |1.00| |0.00| |0.00| |0.00| |0.00| |0.00| |1.00| |0.00| |0.00| |0.00| |0.00| |0.00| |1.00| |0.00| \n",
      "|0.00| |0.00| |0.00| |0.00| |0.00| |0.00| |1.00| |0.00| |0.00| |0.00| |0.00| |0.00| |0.00| |1.00| |0.00| |0.00| \n",
      "|1.00| |0.00| |0.00| |0.00| |0.00| |0.00| |0.00| |0.00| |0.00| |0.00| |0.00| |1.00| |0.00| |0.00| |0.00| |0.00| \n",
      "|0.00| |1.00| |0.00| |0.00| |0.00| |0.00| |0.00| |0.00| |0.00| |0.00| |0.00| |0.00| |0.00| |0.00| |0.00| |1.00| \n",
      "|0.00| |0.00| |0.00| |0.00| |0.00| |0.00| |0.00| |0.00| |0.00| |0.00| |1.00| |0.00| |0.00| |0.00| |0.00| |0.00| \n",
      "|1.00| |1.00| |0.00| |0.00| |0.00| |1.00| |1.00| |1.00| |0.00| |0.00| |0.00| |0.00| |0.00| |1.00| |0.00| |1.00| \n",
      "|0.00| |0.00| |1.00| |1.00| |1.00| |0.00| |1.00| |0.00| |0.00| |0.00| |0.00| |0.00| |0.00| |0.00| |0.00| |0.00| \n",
      "|0.00| |0.00| |0.00| |0.00| |1.00| |0.00| |1.00| |0.00| |0.00| |0.00| |0.00| |0.00| |0.00| |1.00| |0.00| |0.00| \n",
      "|0.00| |0.00| |1.00| |0.00| |0.00| |1.00| |0.00| |0.00| |0.00| |1.00| |0.00| |0.00| |0.00| |0.00| |1.00| |0.00| \n",
      "|1.00| |0.00| |0.00| |0.00| |0.00| |0.00| |0.00| |0.00| |0.00| |0.00| |0.00| |0.00| |1.00| |0.00| |1.00| |0.00| \n",
      "|0.00| |0.00| |0.00| |0.00| |0.00| |0.00| |1.00| |0.00| |0.00| |0.00| |0.00| |0.00| |0.00| |0.00| |0.00| |1.00| \n",
      "|0.00| |0.00| |0.00| |0.00| |0.00| |0.00| |0.00| |0.00| |0.00| |1.00| |0.00| |1.00| |0.00| |0.00| |0.00| |1.00| \n",
      "|0.00| |0.00| |0.00| |0.00| |0.00| |0.00| |0.00| |0.00| |0.00| |0.00| |0.00| |0.00| |0.00| |0.00| |0.00| |0.00| \n",
      "|0.00| |0.00| |0.00| |0.00| |0.00| |0.00| |0.00| |1.00| |0.00| |1.00| |0.00| |0.00| |0.00| |0.00| |0.00| |0.00| \n"
     ]
    }
   ],
   "source": [
    "for line in y:\n",
    "    for ele in line:\n",
    "        print(\"|{0:.2f}|\".format(ele), end=\" \")\n",
    "    print(\"\")"
   ]
  },
  {
   "cell_type": "code",
   "execution_count": 494,
   "metadata": {},
   "outputs": [],
   "source": [
    "x = np.full((8, 8), -2)"
   ]
  },
  {
   "cell_type": "code",
   "execution_count": 495,
   "metadata": {},
   "outputs": [],
   "source": [
    "x[1][3] = 2\n",
    "x[1][4] = 1\n",
    "x[1][5] = 1\n",
    "x[1][6] = 1\n",
    "x[1][7] = 1\n",
    "\n",
    "x[2][3] = 2\n",
    "x[2][4] = 0\n",
    "x[2][5] = 0\n",
    "x[2][6] = 0\n",
    "x[2][7] = 0\n",
    "\n",
    "\n",
    "x[3][3] = 1\n",
    "x[3][4] = 0\n",
    "x[3][5] = 0\n",
    "x[3][6] = 0\n",
    "x[3][7] = 0"
   ]
  },
  {
   "cell_type": "code",
   "execution_count": 496,
   "metadata": {},
   "outputs": [
    {
     "data": {
      "text/plain": [
       "array([[-2, -2, -2, -2, -2, -2, -2, -2],\n",
       "       [-2, -2, -2,  2,  1,  1,  1,  1],\n",
       "       [-2, -2, -2,  2,  0,  0,  0,  0],\n",
       "       [-2, -2, -2,  1,  0,  0,  0,  0],\n",
       "       [-2, -2, -2, -2, -2, -2, -2, -2],\n",
       "       [-2, -2, -2, -2, -2, -2, -2, -2],\n",
       "       [-2, -2, -2, -2, -2, -2, -2, -2],\n",
       "       [-2, -2, -2, -2, -2, -2, -2, -2]])"
      ]
     },
     "execution_count": 496,
     "metadata": {},
     "output_type": "execute_result"
    }
   ],
   "source": [
    "x"
   ]
  },
  {
   "cell_type": "code",
   "execution_count": null,
   "metadata": {},
   "outputs": [],
   "source": []
  }
 ],
 "metadata": {
  "kernelspec": {
   "display_name": "Python 3",
   "language": "python",
   "name": "python3"
  },
  "language_info": {
   "codemirror_mode": {
    "name": "ipython",
    "version": 3
   },
   "file_extension": ".py",
   "mimetype": "text/x-python",
   "name": "python",
   "nbconvert_exporter": "python",
   "pygments_lexer": "ipython3",
   "version": "3.8.5"
  }
 },
 "nbformat": 4,
 "nbformat_minor": 4
}
