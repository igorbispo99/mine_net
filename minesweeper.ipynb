{
 "cells": [
  {
   "cell_type": "code",
   "execution_count": 24,
   "metadata": {},
   "outputs": [],
   "source": [
    "import numpy as np\n",
    "from numpy.core.defchararray import replace\n",
    "\n",
    "from keras.models import Sequential\n",
    "from keras.layers import Dense, GlobalAveragePooling2D, Dropout, Conv2D, Flatten, BatchNormalization, Conv2DTranspose\n",
    "\n",
    "MINE = -1\n",
    "COVERED = -2\n",
    "\n",
    "SIZE_X = 16\n",
    "SIZE_Y = 16\n",
    "N_MINES = 40\n",
    "\n",
    "class Board:\n",
    "    def __init__(self, height, width, mines):\n",
    "        self.visual_board = np.full((height, width), COVERED)\n",
    "        self.height = height\n",
    "        self.width = width\n",
    "        self.mines_left = mines\n",
    "        \n",
    "        self.initialize_board()\n",
    "        \n",
    "    def initialize_board(self):\n",
    "        self.board = np.zeros((self.height, self.width), dtype=np.int16)\n",
    "\n",
    "        coords = np.array([[(i, j) for j in range(self.width)] for i in range(self.height)])\n",
    "        coords = coords.reshape(coords.shape[0]*coords.shape[1], coords.shape[2])\n",
    "                \n",
    "        self.mines_location = coords[np.random.choice(len(coords), self.mines_left, replace=False)]\n",
    "        set_mines = set(map(tuple, self.mines_location))\n",
    "        self.non_mines_location = np.array(list(filter(lambda x : tuple(x) not in set_mines, coords)))\n",
    "        \n",
    "        for mine_coord in self.mines_location:\n",
    "            self.board[mine_coord[0]][mine_coord[1]] = MINE\n",
    "        \n",
    "        for mine_coord in self.mines_location:            \n",
    "            if mine_coord[0] > 0:\n",
    "                if self.board[mine_coord[0]-1][mine_coord[1]] != MINE:\n",
    "                    self.board[mine_coord[0]-1][mine_coord[1]] += 1\n",
    "                \n",
    "                if mine_coord[1] < self.width -1:\n",
    "                    if self.board[mine_coord[0]-1][mine_coord[1]+1] != MINE:\n",
    "                        self.board[mine_coord[0]-1][mine_coord[1]+1] += 1\n",
    "\n",
    "                if mine_coord[1] > 0:\n",
    "                    if self.board[mine_coord[0]-1][mine_coord[1]-1] != MINE:\n",
    "                        self.board[mine_coord[0]-1][mine_coord[1]-1] += 1\n",
    "            \n",
    "            if mine_coord[0] < self.height -1:\n",
    "                if self.board[mine_coord[0]+1][mine_coord[1]] != MINE:\n",
    "                    self.board[mine_coord[0]+1][mine_coord[1]] += 1\n",
    "                \n",
    "                if mine_coord[1] < self.width -1:\n",
    "                    if self.board[mine_coord[0]+1][mine_coord[1]+1] != MINE:\n",
    "                        self.board[mine_coord[0]+1][mine_coord[1]+1] += 1\n",
    "\n",
    "                if mine_coord[1] >= 0:\n",
    "                    if self.board[mine_coord[0]+1][mine_coord[1]-1] != MINE:\n",
    "                        self.board[mine_coord[0]+1][mine_coord[1]-1] += 1\n",
    "\n",
    "            if mine_coord[1] < self.width - 1:\n",
    "                if self.board[mine_coord[0]][mine_coord[1]+1] != MINE:\n",
    "                    self.board[mine_coord[0]][mine_coord[1]+1] += 1\n",
    "\n",
    "            if mine_coord[1] > 0:\n",
    "                if self.board[mine_coord[0]][mine_coord[1]-1] != MINE:\n",
    "                    self.board[mine_coord[0]][mine_coord[1]-1] += 1\n",
    "                                    \n",
    "    def print_board(self):\n",
    "        for line in self.visual_board:\n",
    "            for element in line:\n",
    "                if element == COVERED:\n",
    "                    print(\"| |\",end=\" \")\n",
    "                else:\n",
    "                    print(\"|\"+str(element)+\"|\", end=\" \")\n",
    "            print(\"\")\n",
    "    \n",
    "    def cover_board(self):\n",
    "        self.visual_board = np.full((self.height, self.width), COVERED)\n",
    "    \n",
    "    def get_mine_mask(self):\n",
    "        out_mtx = np.zeros((self.height, self.width))\n",
    "        \n",
    "        for mine in self.mines_location:\n",
    "            out_mtx[mine[0]][mine[1]] = 1\n",
    "        \n",
    "        return out_mtx\n",
    "\n",
    "    def generate_random_state(self, percentage_to_uncover):\n",
    "        self.initialize_board()\n",
    "        self.cover_board()\n",
    "        \n",
    "        mines_to_uncover = int((self.height * self.width - self.mines_left) * percentage_to_uncover)\n",
    "        \n",
    "        coords_uncovered = self.non_mines_location[np.random.choice(len(self.non_mines_location),\\\n",
    "                                                                    mines_to_uncover, replace=False)]\n",
    "        for coord in coords_uncovered:\n",
    "            self.visual_board[coord[0]][coord[1]] = self.board[coord[0]][coord[1]]\n",
    "        \n",
    "        return self.visual_board, self.get_mine_mask()\n",
    "\n",
    "    def __uncover_recursive(self, x, y):\n",
    "        if (self.height <= x) or (x < 0) or\\\n",
    "            (self.width <= y) or (y < 0) or\\\n",
    "            (self.board[x][y] == MINE or self.visual_board[x][y] != COVERED):\n",
    "            return\n",
    "        \n",
    "        self.visual_board[x][y] = self.board[x][y]\n",
    "        \n",
    "        if self.board[x][y] == 0:\n",
    "        \n",
    "            self.__uncover_recursive(x+1, y)\n",
    "            self.__uncover_recursive(x, y+1)\n",
    "            self.__uncover_recursive(x+1, y+1)\n",
    "\n",
    "            self.__uncover_recursive(x-1, y)\n",
    "            self.__uncover_recursive(x, y-1)\n",
    "            self.__uncover_recursive(x-1, y-1)\n",
    "\n",
    "            self.__uncover_recursive(x+1, y-1)\n",
    "            self.__uncover_recursive(x-1, y+1)\n",
    "        \n",
    "    \n",
    "    def click_at(self, x, y):\n",
    "        if self.board[x][y] == MINE:\n",
    "            return True\n",
    "        \n",
    "        self.__uncover_recursive(x, y)\n",
    "        \n",
    "        return False"
   ]
  },
  {
   "cell_type": "code",
   "execution_count": 5,
   "metadata": {},
   "outputs": [],
   "source": [
    "def generate_dataset(size, board, clicks_max = 10):\n",
    "    X, Y = [], []\n",
    "    \n",
    "    for i in range(int(size/2)):\n",
    "        clicks = 0\n",
    "        clicks_limit = np.random.randint(1, clicks_max)\n",
    "        while clicks != clicks_limit:\n",
    "            x_rand = np.random.randint(0, board.height)\n",
    "            y_rand = np.random.randint(0, board.width)\n",
    "            \n",
    "            if not board.click_at(x_rand, y_rand):\n",
    "                clicks += 1\n",
    "            else:\n",
    "                board.cover_board()\n",
    "        \n",
    "        x, y = board.visual_board, board.get_mine_mask()\n",
    "        x_mines = np.ones((board.height, board.width))*board.mines_left / (board.height* board.width)\n",
    "        X.append(np.stack((x, x_mines), axis=2))\n",
    "        Y.append(y)\n",
    "        \n",
    "        prob = np.random.random()\n",
    "        \n",
    "        x, y = board.generate_random_state(prob)\n",
    "        \n",
    "        X.append(np.stack((x, x_mines), axis=2))\n",
    "        Y.append(y)\n",
    "        \n",
    "        print(\"{}/{}\\r\".format(i*2, size), end=\"\")\n",
    "            \n",
    "    return np.array(X).reshape(size, board.height, board.width, 2), np.array(Y)"
   ]
  },
  {
   "cell_type": "code",
   "execution_count": 25,
   "metadata": {},
   "outputs": [],
   "source": [
    "def instantiate_model(n, m):\n",
    "    model = Sequential()\n",
    "\n",
    "    model.add(Conv2D(32, kernel_size = 2 , activation='relu', input_shape=(n, m, 2), padding='same'))\n",
    "    model.add(Conv2D(32, kernel_size = 2, activation='relu', padding='same'))\n",
    "    model.add(Conv2D(64, kernel_size = 2, activation='relu', padding='same'))\n",
    "    model.add(BatchNormalization())\n",
    "\n",
    "    model.add(Conv2D(64, kernel_size = 3 , activation='relu', padding='same'))\n",
    "    model.add(Conv2D(64, kernel_size = 3, activation='relu', padding='same'))\n",
    "    model.add(Conv2D(64, kernel_size = 3, activation='relu', padding='same'))\n",
    "    model.add(BatchNormalization())\n",
    "\n",
    "    model.add(Conv2D(128, kernel_size = 5 , activation='relu', padding='same'))\n",
    "    model.add(Conv2D(128, kernel_size = 5, activation='relu', padding='same'))\n",
    "    model.add(Conv2D(128, kernel_size = 5, activation='relu', padding='same'))\n",
    "    model.add(BatchNormalization())\n",
    "    \n",
    "    model.add(Conv2DTranspose(1, kernel_size = 5, activation='sigmoid', padding='same'))\n",
    "    \n",
    "    print(model.summary())\n",
    "\n",
    "    model.compile(optimizer='rmsprop', loss='mse', metrics=['mse', 'mae'])\n",
    "\n",
    "    return model"
   ]
  },
  {
   "cell_type": "code",
   "execution_count": 4,
   "metadata": {},
   "outputs": [],
   "source": [
    "b = Board(SIZE_X, SIZE_Y, N_MINES)"
   ]
  },
  {
   "cell_type": "code",
   "execution_count": 37,
   "metadata": {},
   "outputs": [
    {
     "data": {
      "text/plain": [
       "False"
      ]
     },
     "execution_count": 37,
     "metadata": {},
     "output_type": "execute_result"
    }
   ],
   "source": [
    "b.click_at(2, 0)"
   ]
  },
  {
   "cell_type": "code",
   "execution_count": 38,
   "metadata": {},
   "outputs": [
    {
     "name": "stdout",
     "output_type": "stream",
     "text": [
      "| | | | | | | | | | | | | | | | \n",
      "| | | | | | | | | | | | | | | | \n",
      "|2| | | | | | | | | | | | | | | \n",
      "| | | | | | | | | | | | | | | | \n",
      "| | | | | | | | | | | | | | | | \n",
      "| | | | | | | | | | | | | | | | \n",
      "| | | | | | | | | | | | | | | | \n",
      "| | | | | | | | | | | | | | | | \n"
     ]
    }
   ],
   "source": [
    "b.print_board()"
   ]
  },
  {
   "cell_type": "code",
   "execution_count": 39,
   "metadata": {},
   "outputs": [
    {
     "data": {
      "text/plain": [
       "array([[-1,  2,  1,  2, -1,  2,  0,  0],\n",
       "       [ 3, -1,  2,  2, -1,  3,  1,  1],\n",
       "       [ 2, -1,  3,  2,  3, -1,  1,  0],\n",
       "       [ 2,  2,  3, -1,  2,  1,  1,  0],\n",
       "       [ 1, -1,  2,  1,  1,  0,  0,  0],\n",
       "       [ 2,  2,  1,  0,  0,  0,  0,  0],\n",
       "       [-1,  2,  0,  0,  0,  0,  0,  0],\n",
       "       [-1,  2,  0,  0,  0,  0,  0,  1]], dtype=int16)"
      ]
     },
     "execution_count": 39,
     "metadata": {},
     "output_type": "execute_result"
    }
   ],
   "source": [
    "b.board"
   ]
  },
  {
   "cell_type": "code",
   "execution_count": 40,
   "metadata": {},
   "outputs": [
    {
     "data": {
      "text/plain": [
       "array([[-2, -2, -2, -2, -2, -2, -2, -2],\n",
       "       [-2, -2, -2, -2, -2, -2, -2, -2],\n",
       "       [ 2, -2, -2, -2, -2, -2, -2, -2],\n",
       "       [-2, -2, -2, -2, -2, -2, -2, -2],\n",
       "       [-2, -2, -2, -2, -2, -2, -2, -2],\n",
       "       [-2, -2, -2, -2, -2, -2, -2, -2],\n",
       "       [-2, -2, -2, -2, -2, -2, -2, -2],\n",
       "       [-2, -2, -2, -2, -2, -2, -2, -2]])"
      ]
     },
     "execution_count": 40,
     "metadata": {},
     "output_type": "execute_result"
    }
   ],
   "source": [
    "b.visual_board"
   ]
  },
  {
   "cell_type": "code",
   "execution_count": 7,
   "metadata": {
    "scrolled": true
   },
   "outputs": [
    {
     "name": "stdout",
     "output_type": "stream",
     "text": [
      "99998/100000\r"
     ]
    }
   ],
   "source": [
    "X, Y = generate_dataset(100000, b)"
   ]
  },
  {
   "cell_type": "code",
   "execution_count": 10,
   "metadata": {},
   "outputs": [],
   "source": [
    "import pickle"
   ]
  },
  {
   "cell_type": "code",
   "execution_count": 12,
   "metadata": {},
   "outputs": [],
   "source": [
    "pickle.dump([X, Y] , open(\"mine_data_16_16_40\", 'wb'))"
   ]
  },
  {
   "cell_type": "code",
   "execution_count": 26,
   "metadata": {},
   "outputs": [
    {
     "name": "stdout",
     "output_type": "stream",
     "text": [
      "Model: \"sequential_5\"\n",
      "_________________________________________________________________\n",
      "Layer (type)                 Output Shape              Param #   \n",
      "=================================================================\n",
      "conv2d_45 (Conv2D)           (None, 16, 16, 32)        288       \n",
      "_________________________________________________________________\n",
      "conv2d_46 (Conv2D)           (None, 16, 16, 32)        4128      \n",
      "_________________________________________________________________\n",
      "conv2d_47 (Conv2D)           (None, 16, 16, 64)        8256      \n",
      "_________________________________________________________________\n",
      "batch_normalization_15 (Batc (None, 16, 16, 64)        256       \n",
      "_________________________________________________________________\n",
      "conv2d_48 (Conv2D)           (None, 16, 16, 64)        36928     \n",
      "_________________________________________________________________\n",
      "conv2d_49 (Conv2D)           (None, 16, 16, 64)        36928     \n",
      "_________________________________________________________________\n",
      "conv2d_50 (Conv2D)           (None, 16, 16, 64)        36928     \n",
      "_________________________________________________________________\n",
      "batch_normalization_16 (Batc (None, 16, 16, 64)        256       \n",
      "_________________________________________________________________\n",
      "conv2d_51 (Conv2D)           (None, 16, 16, 128)       204928    \n",
      "_________________________________________________________________\n",
      "conv2d_52 (Conv2D)           (None, 16, 16, 128)       409728    \n",
      "_________________________________________________________________\n",
      "conv2d_53 (Conv2D)           (None, 16, 16, 128)       409728    \n",
      "_________________________________________________________________\n",
      "batch_normalization_17 (Batc (None, 16, 16, 128)       512       \n",
      "_________________________________________________________________\n",
      "conv2d_transpose (Conv2DTran (None, 16, 16, 1)         3201      \n",
      "=================================================================\n",
      "Total params: 1,152,065\n",
      "Trainable params: 1,151,553\n",
      "Non-trainable params: 512\n",
      "_________________________________________________________________\n",
      "None\n"
     ]
    }
   ],
   "source": [
    "model = instantiate_model(SIZE_X, SIZE_Y)"
   ]
  },
  {
   "cell_type": "code",
   "execution_count": 28,
   "metadata": {
    "scrolled": true
   },
   "outputs": [
    {
     "name": "stdout",
     "output_type": "stream",
     "text": [
      "Epoch 1/100\n",
      "1563/1563 [==============================] - 27s 17ms/step - loss: 0.0487 - mse: 0.0487 - mae: 0.0954\n",
      "Epoch 2/100\n",
      "1563/1563 [==============================] - 27s 17ms/step - loss: 0.0484 - mse: 0.0484 - mae: 0.0948\n",
      "Epoch 3/100\n",
      "1563/1563 [==============================] - 27s 17ms/step - loss: 0.0481 - mse: 0.0481 - mae: 0.0942\n",
      "Epoch 4/100\n",
      "1563/1563 [==============================] - 27s 17ms/step - loss: 0.0479 - mse: 0.0479 - mae: 0.0937\n",
      "Epoch 5/100\n",
      "1563/1563 [==============================] - 27s 17ms/step - loss: 0.0476 - mse: 0.0476 - mae: 0.0932\n",
      "Epoch 6/100\n",
      "1563/1563 [==============================] - 27s 17ms/step - loss: 0.0474 - mse: 0.0474 - mae: 0.0927\n",
      "Epoch 7/100\n",
      "1563/1563 [==============================] - 27s 17ms/step - loss: 0.0472 - mse: 0.0472 - mae: 0.0922\n",
      "Epoch 8/100\n",
      "1563/1563 [==============================] - 27s 17ms/step - loss: 0.0470 - mse: 0.0470 - mae: 0.0918\n",
      "Epoch 9/100\n",
      "1563/1563 [==============================] - 27s 17ms/step - loss: 0.0468 - mse: 0.0468 - mae: 0.0913\n",
      "Epoch 10/100\n",
      "1563/1563 [==============================] - 27s 17ms/step - loss: 0.0467 - mse: 0.0467 - mae: 0.0910\n",
      "Epoch 11/100\n",
      "1563/1563 [==============================] - 27s 17ms/step - loss: 0.0465 - mse: 0.0465 - mae: 0.0905\n",
      "Epoch 12/100\n",
      "1563/1563 [==============================] - 27s 17ms/step - loss: 0.0463 - mse: 0.0463 - mae: 0.0901\n",
      "Epoch 13/100\n",
      "1563/1563 [==============================] - 27s 17ms/step - loss: 0.0462 - mse: 0.0462 - mae: 0.0898\n",
      "Epoch 14/100\n",
      "1563/1563 [==============================] - 27s 17ms/step - loss: 0.0460 - mse: 0.0460 - mae: 0.0894\n",
      "Epoch 15/100\n",
      "1563/1563 [==============================] - 27s 17ms/step - loss: 0.0458 - mse: 0.0458 - mae: 0.0891\n",
      "Epoch 16/100\n",
      "1563/1563 [==============================] - 27s 17ms/step - loss: 0.0457 - mse: 0.0457 - mae: 0.0887\n",
      "Epoch 17/100\n",
      "1563/1563 [==============================] - 27s 17ms/step - loss: 0.0456 - mse: 0.0456 - mae: 0.0884\n",
      "Epoch 18/100\n",
      "1563/1563 [==============================] - 27s 17ms/step - loss: 0.0454 - mse: 0.0454 - mae: 0.0881\n",
      "Epoch 19/100\n",
      "1563/1563 [==============================] - 27s 17ms/step - loss: 0.0453 - mse: 0.0453 - mae: 0.0878\n",
      "Epoch 20/100\n",
      "1563/1563 [==============================] - 27s 17ms/step - loss: 0.0452 - mse: 0.0452 - mae: 0.0875\n",
      "Epoch 21/100\n",
      "1563/1563 [==============================] - 27s 17ms/step - loss: 0.0450 - mse: 0.0450 - mae: 0.0872\n",
      "Epoch 22/100\n",
      "1563/1563 [==============================] - 27s 17ms/step - loss: 0.0449 - mse: 0.0449 - mae: 0.0869\n",
      "Epoch 23/100\n",
      "1563/1563 [==============================] - 27s 17ms/step - loss: 0.0448 - mse: 0.0448 - mae: 0.0867\n",
      "Epoch 24/100\n",
      "1563/1563 [==============================] - 27s 17ms/step - loss: 0.0447 - mse: 0.0447 - mae: 0.0864\n",
      "Epoch 25/100\n",
      "1563/1563 [==============================] - 27s 17ms/step - loss: 0.0446 - mse: 0.0446 - mae: 0.0861\n",
      "Epoch 26/100\n",
      "1563/1563 [==============================] - 26s 17ms/step - loss: 0.0445 - mse: 0.0445 - mae: 0.0859\n",
      "Epoch 27/100\n",
      "1563/1563 [==============================] - 27s 17ms/step - loss: 0.0444 - mse: 0.0444 - mae: 0.0857\n",
      "Epoch 28/100\n",
      "1563/1563 [==============================] - 27s 17ms/step - loss: 0.0443 - mse: 0.0443 - mae: 0.0854\n",
      "Epoch 29/100\n",
      "1563/1563 [==============================] - 27s 17ms/step - loss: 0.0442 - mse: 0.0442 - mae: 0.0852\n",
      "Epoch 30/100\n",
      "1563/1563 [==============================] - 27s 17ms/step - loss: 0.0441 - mse: 0.0441 - mae: 0.0850\n",
      "Epoch 31/100\n",
      "1563/1563 [==============================] - 27s 17ms/step - loss: 0.0440 - mse: 0.0440 - mae: 0.0848\n",
      "Epoch 32/100\n",
      "1563/1563 [==============================] - 27s 17ms/step - loss: 0.0439 - mse: 0.0439 - mae: 0.0846\n",
      "Epoch 33/100\n",
      "1563/1563 [==============================] - 27s 17ms/step - loss: 0.0438 - mse: 0.0438 - mae: 0.0843\n",
      "Epoch 34/100\n",
      "1563/1563 [==============================] - 27s 17ms/step - loss: 0.0437 - mse: 0.0437 - mae: 0.0841\n",
      "Epoch 35/100\n",
      "1563/1563 [==============================] - 27s 17ms/step - loss: 0.0436 - mse: 0.0436 - mae: 0.0839\n",
      "Epoch 36/100\n",
      "1563/1563 [==============================] - 27s 17ms/step - loss: 0.0435 - mse: 0.0435 - mae: 0.0837\n",
      "Epoch 37/100\n",
      "1563/1563 [==============================] - 27s 17ms/step - loss: 0.0434 - mse: 0.0434 - mae: 0.0835\n",
      "Epoch 38/100\n",
      "1563/1563 [==============================] - 27s 17ms/step - loss: 0.0433 - mse: 0.0433 - mae: 0.0833\n",
      "Epoch 39/100\n",
      "1563/1563 [==============================] - 27s 17ms/step - loss: 0.0433 - mse: 0.0433 - mae: 0.0831\n",
      "Epoch 40/100\n",
      "1563/1563 [==============================] - 27s 17ms/step - loss: 0.0432 - mse: 0.0432 - mae: 0.0830\n",
      "Epoch 41/100\n",
      "1563/1563 [==============================] - 27s 17ms/step - loss: 0.0431 - mse: 0.0431 - mae: 0.0828\n",
      "Epoch 42/100\n",
      "1563/1563 [==============================] - 27s 17ms/step - loss: 0.0430 - mse: 0.0430 - mae: 0.0826\n",
      "Epoch 43/100\n",
      " 789/1563 [==============>...............] - ETA: 13s - loss: 0.0429 - mse: 0.0429 - mae: 0.0824"
     ]
    },
    {
     "ename": "KeyboardInterrupt",
     "evalue": "",
     "output_type": "error",
     "traceback": [
      "\u001b[0;31m---------------------------------------------------------------------------\u001b[0m",
      "\u001b[0;31mKeyboardInterrupt\u001b[0m                         Traceback (most recent call last)",
      "\u001b[0;32m<ipython-input-28-f27db4bfcc80>\u001b[0m in \u001b[0;36m<module>\u001b[0;34m\u001b[0m\n\u001b[0;32m----> 1\u001b[0;31m \u001b[0mmodel\u001b[0m\u001b[0;34m.\u001b[0m\u001b[0mfit\u001b[0m\u001b[0;34m(\u001b[0m\u001b[0mX\u001b[0m\u001b[0;34m,\u001b[0m \u001b[0mY\u001b[0m\u001b[0;34m,\u001b[0m \u001b[0mepochs\u001b[0m\u001b[0;34m=\u001b[0m\u001b[0;36m100\u001b[0m\u001b[0;34m,\u001b[0m \u001b[0mbatch_size\u001b[0m\u001b[0;34m=\u001b[0m\u001b[0;36m64\u001b[0m\u001b[0;34m)\u001b[0m\u001b[0;34m\u001b[0m\u001b[0;34m\u001b[0m\u001b[0m\n\u001b[0m",
      "\u001b[0;32m~/.pyenv/versions/3.8.5/lib/python3.8/site-packages/tensorflow/python/keras/engine/training.py\u001b[0m in \u001b[0;36m_method_wrapper\u001b[0;34m(self, *args, **kwargs)\u001b[0m\n\u001b[1;32m    106\u001b[0m   \u001b[0;32mdef\u001b[0m \u001b[0m_method_wrapper\u001b[0m\u001b[0;34m(\u001b[0m\u001b[0mself\u001b[0m\u001b[0;34m,\u001b[0m \u001b[0;34m*\u001b[0m\u001b[0margs\u001b[0m\u001b[0;34m,\u001b[0m \u001b[0;34m**\u001b[0m\u001b[0mkwargs\u001b[0m\u001b[0;34m)\u001b[0m\u001b[0;34m:\u001b[0m\u001b[0;34m\u001b[0m\u001b[0;34m\u001b[0m\u001b[0m\n\u001b[1;32m    107\u001b[0m     \u001b[0;32mif\u001b[0m \u001b[0;32mnot\u001b[0m \u001b[0mself\u001b[0m\u001b[0;34m.\u001b[0m\u001b[0m_in_multi_worker_mode\u001b[0m\u001b[0;34m(\u001b[0m\u001b[0;34m)\u001b[0m\u001b[0;34m:\u001b[0m  \u001b[0;31m# pylint: disable=protected-access\u001b[0m\u001b[0;34m\u001b[0m\u001b[0;34m\u001b[0m\u001b[0m\n\u001b[0;32m--> 108\u001b[0;31m       \u001b[0;32mreturn\u001b[0m \u001b[0mmethod\u001b[0m\u001b[0;34m(\u001b[0m\u001b[0mself\u001b[0m\u001b[0;34m,\u001b[0m \u001b[0;34m*\u001b[0m\u001b[0margs\u001b[0m\u001b[0;34m,\u001b[0m \u001b[0;34m**\u001b[0m\u001b[0mkwargs\u001b[0m\u001b[0;34m)\u001b[0m\u001b[0;34m\u001b[0m\u001b[0;34m\u001b[0m\u001b[0m\n\u001b[0m\u001b[1;32m    109\u001b[0m \u001b[0;34m\u001b[0m\u001b[0m\n\u001b[1;32m    110\u001b[0m     \u001b[0;31m# Running inside `run_distribute_coordinator` already.\u001b[0m\u001b[0;34m\u001b[0m\u001b[0;34m\u001b[0m\u001b[0;34m\u001b[0m\u001b[0m\n",
      "\u001b[0;32m~/.pyenv/versions/3.8.5/lib/python3.8/site-packages/tensorflow/python/keras/engine/training.py\u001b[0m in \u001b[0;36mfit\u001b[0;34m(self, x, y, batch_size, epochs, verbose, callbacks, validation_split, validation_data, shuffle, class_weight, sample_weight, initial_epoch, steps_per_epoch, validation_steps, validation_batch_size, validation_freq, max_queue_size, workers, use_multiprocessing)\u001b[0m\n\u001b[1;32m   1096\u001b[0m                 batch_size=batch_size):\n\u001b[1;32m   1097\u001b[0m               \u001b[0mcallbacks\u001b[0m\u001b[0;34m.\u001b[0m\u001b[0mon_train_batch_begin\u001b[0m\u001b[0;34m(\u001b[0m\u001b[0mstep\u001b[0m\u001b[0;34m)\u001b[0m\u001b[0;34m\u001b[0m\u001b[0;34m\u001b[0m\u001b[0m\n\u001b[0;32m-> 1098\u001b[0;31m               \u001b[0mtmp_logs\u001b[0m \u001b[0;34m=\u001b[0m \u001b[0mtrain_function\u001b[0m\u001b[0;34m(\u001b[0m\u001b[0miterator\u001b[0m\u001b[0;34m)\u001b[0m\u001b[0;34m\u001b[0m\u001b[0;34m\u001b[0m\u001b[0m\n\u001b[0m\u001b[1;32m   1099\u001b[0m               \u001b[0;32mif\u001b[0m \u001b[0mdata_handler\u001b[0m\u001b[0;34m.\u001b[0m\u001b[0mshould_sync\u001b[0m\u001b[0;34m:\u001b[0m\u001b[0;34m\u001b[0m\u001b[0;34m\u001b[0m\u001b[0m\n\u001b[1;32m   1100\u001b[0m                 \u001b[0mcontext\u001b[0m\u001b[0;34m.\u001b[0m\u001b[0masync_wait\u001b[0m\u001b[0;34m(\u001b[0m\u001b[0;34m)\u001b[0m\u001b[0;34m\u001b[0m\u001b[0;34m\u001b[0m\u001b[0m\n",
      "\u001b[0;32m~/.pyenv/versions/3.8.5/lib/python3.8/site-packages/tensorflow/python/eager/def_function.py\u001b[0m in \u001b[0;36m__call__\u001b[0;34m(self, *args, **kwds)\u001b[0m\n\u001b[1;32m    778\u001b[0m       \u001b[0;32melse\u001b[0m\u001b[0;34m:\u001b[0m\u001b[0;34m\u001b[0m\u001b[0;34m\u001b[0m\u001b[0m\n\u001b[1;32m    779\u001b[0m         \u001b[0mcompiler\u001b[0m \u001b[0;34m=\u001b[0m \u001b[0;34m\"nonXla\"\u001b[0m\u001b[0;34m\u001b[0m\u001b[0;34m\u001b[0m\u001b[0m\n\u001b[0;32m--> 780\u001b[0;31m         \u001b[0mresult\u001b[0m \u001b[0;34m=\u001b[0m \u001b[0mself\u001b[0m\u001b[0;34m.\u001b[0m\u001b[0m_call\u001b[0m\u001b[0;34m(\u001b[0m\u001b[0;34m*\u001b[0m\u001b[0margs\u001b[0m\u001b[0;34m,\u001b[0m \u001b[0;34m**\u001b[0m\u001b[0mkwds\u001b[0m\u001b[0;34m)\u001b[0m\u001b[0;34m\u001b[0m\u001b[0;34m\u001b[0m\u001b[0m\n\u001b[0m\u001b[1;32m    781\u001b[0m \u001b[0;34m\u001b[0m\u001b[0m\n\u001b[1;32m    782\u001b[0m       \u001b[0mnew_tracing_count\u001b[0m \u001b[0;34m=\u001b[0m \u001b[0mself\u001b[0m\u001b[0;34m.\u001b[0m\u001b[0m_get_tracing_count\u001b[0m\u001b[0;34m(\u001b[0m\u001b[0;34m)\u001b[0m\u001b[0;34m\u001b[0m\u001b[0;34m\u001b[0m\u001b[0m\n",
      "\u001b[0;32m~/.pyenv/versions/3.8.5/lib/python3.8/site-packages/tensorflow/python/eager/def_function.py\u001b[0m in \u001b[0;36m_call\u001b[0;34m(self, *args, **kwds)\u001b[0m\n\u001b[1;32m    805\u001b[0m       \u001b[0;31m# In this case we have created variables on the first call, so we run the\u001b[0m\u001b[0;34m\u001b[0m\u001b[0;34m\u001b[0m\u001b[0;34m\u001b[0m\u001b[0m\n\u001b[1;32m    806\u001b[0m       \u001b[0;31m# defunned version which is guaranteed to never create variables.\u001b[0m\u001b[0;34m\u001b[0m\u001b[0;34m\u001b[0m\u001b[0;34m\u001b[0m\u001b[0m\n\u001b[0;32m--> 807\u001b[0;31m       \u001b[0;32mreturn\u001b[0m \u001b[0mself\u001b[0m\u001b[0;34m.\u001b[0m\u001b[0m_stateless_fn\u001b[0m\u001b[0;34m(\u001b[0m\u001b[0;34m*\u001b[0m\u001b[0margs\u001b[0m\u001b[0;34m,\u001b[0m \u001b[0;34m**\u001b[0m\u001b[0mkwds\u001b[0m\u001b[0;34m)\u001b[0m  \u001b[0;31m# pylint: disable=not-callable\u001b[0m\u001b[0;34m\u001b[0m\u001b[0;34m\u001b[0m\u001b[0m\n\u001b[0m\u001b[1;32m    808\u001b[0m     \u001b[0;32melif\u001b[0m \u001b[0mself\u001b[0m\u001b[0;34m.\u001b[0m\u001b[0m_stateful_fn\u001b[0m \u001b[0;32mis\u001b[0m \u001b[0;32mnot\u001b[0m \u001b[0;32mNone\u001b[0m\u001b[0;34m:\u001b[0m\u001b[0;34m\u001b[0m\u001b[0;34m\u001b[0m\u001b[0m\n\u001b[1;32m    809\u001b[0m       \u001b[0;31m# Release the lock early so that multiple threads can perform the call\u001b[0m\u001b[0;34m\u001b[0m\u001b[0;34m\u001b[0m\u001b[0;34m\u001b[0m\u001b[0m\n",
      "\u001b[0;32m~/.pyenv/versions/3.8.5/lib/python3.8/site-packages/tensorflow/python/eager/function.py\u001b[0m in \u001b[0;36m__call__\u001b[0;34m(self, *args, **kwargs)\u001b[0m\n\u001b[1;32m   2827\u001b[0m     \u001b[0;32mwith\u001b[0m \u001b[0mself\u001b[0m\u001b[0;34m.\u001b[0m\u001b[0m_lock\u001b[0m\u001b[0;34m:\u001b[0m\u001b[0;34m\u001b[0m\u001b[0;34m\u001b[0m\u001b[0m\n\u001b[1;32m   2828\u001b[0m       \u001b[0mgraph_function\u001b[0m\u001b[0;34m,\u001b[0m \u001b[0margs\u001b[0m\u001b[0;34m,\u001b[0m \u001b[0mkwargs\u001b[0m \u001b[0;34m=\u001b[0m \u001b[0mself\u001b[0m\u001b[0;34m.\u001b[0m\u001b[0m_maybe_define_function\u001b[0m\u001b[0;34m(\u001b[0m\u001b[0margs\u001b[0m\u001b[0;34m,\u001b[0m \u001b[0mkwargs\u001b[0m\u001b[0;34m)\u001b[0m\u001b[0;34m\u001b[0m\u001b[0;34m\u001b[0m\u001b[0m\n\u001b[0;32m-> 2829\u001b[0;31m     \u001b[0;32mreturn\u001b[0m \u001b[0mgraph_function\u001b[0m\u001b[0;34m.\u001b[0m\u001b[0m_filtered_call\u001b[0m\u001b[0;34m(\u001b[0m\u001b[0margs\u001b[0m\u001b[0;34m,\u001b[0m \u001b[0mkwargs\u001b[0m\u001b[0;34m)\u001b[0m  \u001b[0;31m# pylint: disable=protected-access\u001b[0m\u001b[0;34m\u001b[0m\u001b[0;34m\u001b[0m\u001b[0m\n\u001b[0m\u001b[1;32m   2830\u001b[0m \u001b[0;34m\u001b[0m\u001b[0m\n\u001b[1;32m   2831\u001b[0m   \u001b[0;34m@\u001b[0m\u001b[0mproperty\u001b[0m\u001b[0;34m\u001b[0m\u001b[0;34m\u001b[0m\u001b[0m\n",
      "\u001b[0;32m~/.pyenv/versions/3.8.5/lib/python3.8/site-packages/tensorflow/python/eager/function.py\u001b[0m in \u001b[0;36m_filtered_call\u001b[0;34m(self, args, kwargs, cancellation_manager)\u001b[0m\n\u001b[1;32m   1841\u001b[0m       \u001b[0;31m`\u001b[0m\u001b[0margs\u001b[0m\u001b[0;31m`\u001b[0m \u001b[0;32mand\u001b[0m\u001b[0;31m \u001b[0m\u001b[0;31m`\u001b[0m\u001b[0mkwargs\u001b[0m\u001b[0;31m`\u001b[0m\u001b[0;34m.\u001b[0m\u001b[0;34m\u001b[0m\u001b[0;34m\u001b[0m\u001b[0m\n\u001b[1;32m   1842\u001b[0m     \"\"\"\n\u001b[0;32m-> 1843\u001b[0;31m     return self._call_flat(\n\u001b[0m\u001b[1;32m   1844\u001b[0m         [t for t in nest.flatten((args, kwargs), expand_composites=True)\n\u001b[1;32m   1845\u001b[0m          if isinstance(t, (ops.Tensor,\n",
      "\u001b[0;32m~/.pyenv/versions/3.8.5/lib/python3.8/site-packages/tensorflow/python/eager/function.py\u001b[0m in \u001b[0;36m_call_flat\u001b[0;34m(self, args, captured_inputs, cancellation_manager)\u001b[0m\n\u001b[1;32m   1921\u001b[0m         and executing_eagerly):\n\u001b[1;32m   1922\u001b[0m       \u001b[0;31m# No tape is watching; skip to running the function.\u001b[0m\u001b[0;34m\u001b[0m\u001b[0;34m\u001b[0m\u001b[0;34m\u001b[0m\u001b[0m\n\u001b[0;32m-> 1923\u001b[0;31m       return self._build_call_outputs(self._inference_function.call(\n\u001b[0m\u001b[1;32m   1924\u001b[0m           ctx, args, cancellation_manager=cancellation_manager))\n\u001b[1;32m   1925\u001b[0m     forward_backward = self._select_forward_and_backward_functions(\n",
      "\u001b[0;32m~/.pyenv/versions/3.8.5/lib/python3.8/site-packages/tensorflow/python/eager/function.py\u001b[0m in \u001b[0;36mcall\u001b[0;34m(self, ctx, args, cancellation_manager)\u001b[0m\n\u001b[1;32m    543\u001b[0m       \u001b[0;32mwith\u001b[0m \u001b[0m_InterpolateFunctionError\u001b[0m\u001b[0;34m(\u001b[0m\u001b[0mself\u001b[0m\u001b[0;34m)\u001b[0m\u001b[0;34m:\u001b[0m\u001b[0;34m\u001b[0m\u001b[0;34m\u001b[0m\u001b[0m\n\u001b[1;32m    544\u001b[0m         \u001b[0;32mif\u001b[0m \u001b[0mcancellation_manager\u001b[0m \u001b[0;32mis\u001b[0m \u001b[0;32mNone\u001b[0m\u001b[0;34m:\u001b[0m\u001b[0;34m\u001b[0m\u001b[0;34m\u001b[0m\u001b[0m\n\u001b[0;32m--> 545\u001b[0;31m           outputs = execute.execute(\n\u001b[0m\u001b[1;32m    546\u001b[0m               \u001b[0mstr\u001b[0m\u001b[0;34m(\u001b[0m\u001b[0mself\u001b[0m\u001b[0;34m.\u001b[0m\u001b[0msignature\u001b[0m\u001b[0;34m.\u001b[0m\u001b[0mname\u001b[0m\u001b[0;34m)\u001b[0m\u001b[0;34m,\u001b[0m\u001b[0;34m\u001b[0m\u001b[0;34m\u001b[0m\u001b[0m\n\u001b[1;32m    547\u001b[0m               \u001b[0mnum_outputs\u001b[0m\u001b[0;34m=\u001b[0m\u001b[0mself\u001b[0m\u001b[0;34m.\u001b[0m\u001b[0m_num_outputs\u001b[0m\u001b[0;34m,\u001b[0m\u001b[0;34m\u001b[0m\u001b[0;34m\u001b[0m\u001b[0m\n",
      "\u001b[0;32m~/.pyenv/versions/3.8.5/lib/python3.8/site-packages/tensorflow/python/eager/execute.py\u001b[0m in \u001b[0;36mquick_execute\u001b[0;34m(op_name, num_outputs, inputs, attrs, ctx, name)\u001b[0m\n\u001b[1;32m     57\u001b[0m   \u001b[0;32mtry\u001b[0m\u001b[0;34m:\u001b[0m\u001b[0;34m\u001b[0m\u001b[0;34m\u001b[0m\u001b[0m\n\u001b[1;32m     58\u001b[0m     \u001b[0mctx\u001b[0m\u001b[0;34m.\u001b[0m\u001b[0mensure_initialized\u001b[0m\u001b[0;34m(\u001b[0m\u001b[0;34m)\u001b[0m\u001b[0;34m\u001b[0m\u001b[0;34m\u001b[0m\u001b[0m\n\u001b[0;32m---> 59\u001b[0;31m     tensors = pywrap_tfe.TFE_Py_Execute(ctx._handle, device_name, op_name,\n\u001b[0m\u001b[1;32m     60\u001b[0m                                         inputs, attrs, num_outputs)\n\u001b[1;32m     61\u001b[0m   \u001b[0;32mexcept\u001b[0m \u001b[0mcore\u001b[0m\u001b[0;34m.\u001b[0m\u001b[0m_NotOkStatusException\u001b[0m \u001b[0;32mas\u001b[0m \u001b[0me\u001b[0m\u001b[0;34m:\u001b[0m\u001b[0;34m\u001b[0m\u001b[0;34m\u001b[0m\u001b[0m\n",
      "\u001b[0;31mKeyboardInterrupt\u001b[0m: "
     ]
    }
   ],
   "source": [
    "model.fit(X, Y, epochs=100, batch_size=64)"
   ]
  },
  {
   "cell_type": "code",
   "execution_count": 29,
   "metadata": {},
   "outputs": [],
   "source": [
    "model.save(\"mine_net.h5\")"
   ]
  },
  {
   "cell_type": "code",
   "execution_count": 30,
   "metadata": {},
   "outputs": [],
   "source": [
    "x, y = b.generate_random_state(0.5)\n",
    "x_mines = np.ones((b.height, b.width))*b.mines_left / (b.height* b.width)\n",
    "x = np.stack((x, x_mines), axis=2)"
   ]
  },
  {
   "cell_type": "code",
   "execution_count": 31,
   "metadata": {},
   "outputs": [
    {
     "name": "stdout",
     "output_type": "stream",
     "text": [
      "| | | | | | |0| | | |1| | | | | |0| | | | | |1| | | | | | | | | \n",
      "|1| |1| | | |0| | | |1| | | |1| |0| | | |1| |2| | | |1| |0| | | \n",
      "|1| | | |1| | | | | |1| |1| |1| | | |1| | | | | |2| |1| |0| | | \n",
      "| | | | | | | | |0| |1| |1| |1| | | |1| | | | | | | |2| | | |1| \n",
      "|0| |1| | | | | |0| | | | | | | | | | | | | |2| | | | | | | |1| \n",
      "| | | | | | |2| | | | | |1| | | |0| | | |0| | | |1| | | | | |1| \n",
      "| | | | | | | | | | |2| |0| | | |0| |1| |1| | | |1| | | |1| | | \n",
      "| | |2| | | |3| | | |2| |0| |0| |0| | | | | | | | | |0| | | | | \n",
      "| | | | | | | | |2| | | | | | | |0| |2| | | | | | | | | |0| | | \n",
      "|3| |4| | | |1| | | | | |1| |0| |1| | | |3| |2| | | | | |1| |1| \n",
      "| | | | |2| | | |1| | | |1| |0| | | | | | | |1| | | |1| | | | | \n",
      "|2| | | | | |0| |0| |1| |1| | | | | | | | | | | |1| | | |2| |3| \n",
      "|2| |3| | | |1| | | | | | | | | | | |1| | | | | | | | | |2| | | \n",
      "| | | | | | |1| | | | | | | | | |1| | | |0| | | |2| | | |3| |2| \n",
      "| | |5| |3| |2| | | | | | | |3| | | | | |1| | | | | |3| | | |3| \n",
      "| | | | | | | | |0| |1| |2| | | | | | | |1| |0| |1| | | |3| | | \n"
     ]
    }
   ],
   "source": [
    "b.print_board()"
   ]
  },
  {
   "cell_type": "code",
   "execution_count": 32,
   "metadata": {},
   "outputs": [
    {
     "name": "stdout",
     "output_type": "stream",
     "text": [
      "(0, 0) => |0.00||0.00||0.00||0.00||0.00||0.00||0.00||0.00||0.00||0.00||0.00||0.00||1.00||0.00||0.00||0.00|\n",
      "(1, 0) => |0.00||0.00||0.00||0.00||0.00||0.00||1.00||0.00||0.00||0.00||0.00||0.00||0.00||0.00||0.00||0.00|\n",
      "(2, 0) => |0.00||1.00||0.00||0.00||0.00||0.00||0.00||0.00||0.00||0.00||0.00||1.00||0.00||0.00||0.00||0.00|\n",
      "(3, 0) => |0.00||0.00||1.00||0.00||0.00||0.00||0.00||0.00||0.00||0.00||1.00||0.03||1.00||0.00||0.00||0.00|\n",
      "(4, 0) => |0.00||0.00||0.00||0.00||0.00||0.00||1.00||0.00||0.00||0.00||0.00||0.00||0.00||0.00||1.00||0.00|\n",
      "(5, 0) => |0.00||0.00||0.00||0.00||0.00||0.00||0.00||0.00||0.00||0.00||0.00||0.00||0.00||1.00||0.00||0.00|\n",
      "(6, 0) => |0.09||0.00||0.00||0.00||1.00||0.00||0.00||0.00||0.00||0.00||0.00||0.00||0.00||0.00||0.00||0.00|\n",
      "(7, 0) => |0.00||0.00||0.00||0.00||1.00||0.00||0.00||0.00||0.00||0.00||1.00||0.00||0.00||0.00||0.00||0.00|\n",
      "(8, 0) => |1.00||1.00||0.00||0.00||0.00||0.00||0.00||0.00||0.00||0.00||1.00||0.00||0.00||0.00||0.00||0.00|\n",
      "(9, 0) => |0.00||0.00||1.00||0.00||0.00||1.00||0.00||0.00||0.00||0.00||0.00||0.00||0.00||0.00||0.00||0.00|\n",
      "(10, 0) => |1.00||0.89||0.00||0.00||0.00||0.00||0.00||0.00||0.00||1.00||0.00||0.00||0.00||0.00||1.00||0.00|\n",
      "(11, 0) => |0.00||0.83||0.00||0.00||0.00||0.00||0.00||0.00||0.00||1.00||0.02||0.00||0.00||0.00||0.00||0.00|\n",
      "(12, 0) => |0.00||0.00||0.00||0.00||0.00||0.00||1.00||0.00||0.00||0.00||0.00||0.00||1.00||0.00||0.00||1.00|\n",
      "(13, 0) => |1.00||0.96||1.00||0.00||0.00||0.00||0.00||0.01||0.00||0.00||0.00||0.00||0.00||1.00||0.00||0.00|\n",
      "(14, 0) => |0.00||0.00||0.00||0.00||0.00||0.00||1.00||0.00||0.07||0.00||0.00||0.00||0.00||0.00||1.00||0.00|\n",
      "(15, 0) => |0.96||0.00||1.00||0.00||0.00||0.00||0.00||1.00||0.00||1.00||0.00||0.00||0.00||1.00||0.00||1.00|\n"
     ]
    }
   ],
   "source": [
    "for i, line in enumerate(model.predict(x.reshape(1, 16, 16, 2))[0]):\n",
    "    print(\"({}, 0) => \".format(i), end='')\n",
    "    for j, ele in enumerate(line):\n",
    "        print(\"|{0:.2f}|\".format(ele[0]), end=\"\")\n",
    "    print(\"\")"
   ]
  },
  {
   "cell_type": "code",
   "execution_count": 33,
   "metadata": {},
   "outputs": [
    {
     "name": "stdout",
     "output_type": "stream",
     "text": [
      "|0.00| |0.00| |0.00| |0.00| |0.00| |0.00| |0.00| |0.00| |0.00| |0.00| |0.00| |0.00| |1.00| |0.00| |0.00| |0.00| \n",
      "|0.00| |0.00| |0.00| |0.00| |0.00| |0.00| |1.00| |0.00| |0.00| |0.00| |0.00| |0.00| |0.00| |0.00| |0.00| |0.00| \n",
      "|0.00| |1.00| |0.00| |0.00| |0.00| |0.00| |0.00| |0.00| |0.00| |0.00| |1.00| |0.00| |0.00| |0.00| |0.00| |0.00| \n",
      "|0.00| |0.00| |0.00| |0.00| |0.00| |0.00| |0.00| |0.00| |0.00| |0.00| |0.00| |1.00| |1.00| |0.00| |0.00| |0.00| \n",
      "|0.00| |0.00| |1.00| |0.00| |0.00| |0.00| |1.00| |0.00| |0.00| |0.00| |0.00| |0.00| |0.00| |0.00| |1.00| |0.00| \n",
      "|0.00| |0.00| |0.00| |0.00| |0.00| |0.00| |0.00| |0.00| |0.00| |0.00| |0.00| |0.00| |0.00| |1.00| |0.00| |0.00| \n",
      "|0.00| |0.00| |0.00| |0.00| |1.00| |0.00| |0.00| |0.00| |0.00| |0.00| |0.00| |0.00| |0.00| |0.00| |0.00| |0.00| \n",
      "|0.00| |0.00| |1.00| |0.00| |1.00| |0.00| |0.00| |0.00| |0.00| |0.00| |1.00| |0.00| |0.00| |0.00| |0.00| |0.00| \n",
      "|0.00| |1.00| |0.00| |0.00| |0.00| |0.00| |0.00| |0.00| |0.00| |0.00| |1.00| |0.00| |0.00| |0.00| |0.00| |0.00| \n",
      "|0.00| |0.00| |1.00| |0.00| |0.00| |1.00| |0.00| |0.00| |0.00| |0.00| |0.00| |0.00| |0.00| |0.00| |0.00| |0.00| \n",
      "|1.00| |1.00| |0.00| |0.00| |0.00| |0.00| |0.00| |0.00| |0.00| |1.00| |1.00| |0.00| |0.00| |0.00| |1.00| |0.00| \n",
      "|0.00| |0.00| |0.00| |0.00| |0.00| |0.00| |0.00| |0.00| |0.00| |0.00| |0.00| |0.00| |0.00| |0.00| |0.00| |0.00| \n",
      "|0.00| |0.00| |0.00| |0.00| |0.00| |0.00| |1.00| |0.00| |1.00| |0.00| |0.00| |0.00| |1.00| |0.00| |0.00| |1.00| \n",
      "|1.00| |1.00| |1.00| |0.00| |0.00| |0.00| |0.00| |0.00| |0.00| |0.00| |0.00| |0.00| |0.00| |1.00| |0.00| |0.00| \n",
      "|0.00| |0.00| |0.00| |0.00| |0.00| |0.00| |1.00| |0.00| |0.00| |0.00| |0.00| |0.00| |0.00| |0.00| |1.00| |0.00| \n",
      "|1.00| |0.00| |1.00| |0.00| |0.00| |0.00| |0.00| |1.00| |1.00| |1.00| |0.00| |0.00| |0.00| |1.00| |0.00| |1.00| \n"
     ]
    }
   ],
   "source": [
    "for line in y:\n",
    "    for ele in line:\n",
    "        print(\"|{0:.2f}|\".format(ele), end=\" \")\n",
    "    print(\"\")"
   ]
  },
  {
   "cell_type": "code",
   "execution_count": 494,
   "metadata": {},
   "outputs": [],
   "source": [
    "x = np.full((8, 8), -2)"
   ]
  },
  {
   "cell_type": "code",
   "execution_count": 495,
   "metadata": {},
   "outputs": [],
   "source": [
    "x[1][3] = 2\n",
    "x[1][4] = 1\n",
    "x[1][5] = 1\n",
    "x[1][6] = 1\n",
    "x[1][7] = 1\n",
    "\n",
    "x[2][3] = 2\n",
    "x[2][4] = 0\n",
    "x[2][5] = 0\n",
    "x[2][6] = 0\n",
    "x[2][7] = 0\n",
    "\n",
    "\n",
    "x[3][3] = 1\n",
    "x[3][4] = 0\n",
    "x[3][5] = 0\n",
    "x[3][6] = 0\n",
    "x[3][7] = 0"
   ]
  },
  {
   "cell_type": "code",
   "execution_count": 496,
   "metadata": {},
   "outputs": [
    {
     "data": {
      "text/plain": [
       "array([[-2, -2, -2, -2, -2, -2, -2, -2],\n",
       "       [-2, -2, -2,  2,  1,  1,  1,  1],\n",
       "       [-2, -2, -2,  2,  0,  0,  0,  0],\n",
       "       [-2, -2, -2,  1,  0,  0,  0,  0],\n",
       "       [-2, -2, -2, -2, -2, -2, -2, -2],\n",
       "       [-2, -2, -2, -2, -2, -2, -2, -2],\n",
       "       [-2, -2, -2, -2, -2, -2, -2, -2],\n",
       "       [-2, -2, -2, -2, -2, -2, -2, -2]])"
      ]
     },
     "execution_count": 496,
     "metadata": {},
     "output_type": "execute_result"
    }
   ],
   "source": [
    "x"
   ]
  },
  {
   "cell_type": "code",
   "execution_count": null,
   "metadata": {},
   "outputs": [],
   "source": []
  }
 ],
 "metadata": {
  "kernelspec": {
   "display_name": "Python 3",
   "language": "python",
   "name": "python3"
  },
  "language_info": {
   "codemirror_mode": {
    "name": "ipython",
    "version": 3
   },
   "file_extension": ".py",
   "mimetype": "text/x-python",
   "name": "python",
   "nbconvert_exporter": "python",
   "pygments_lexer": "ipython3",
   "version": "3.8.5"
  }
 },
 "nbformat": 4,
 "nbformat_minor": 4
}
